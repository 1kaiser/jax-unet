{
  "nbformat": 4,
  "nbformat_minor": 0,
  "metadata": {
    "colab": {
      "provenance": [],
      "authorship_tag": "ABX9TyO0Ne7POV8hz/DQk37HCYyd",
      "include_colab_link": true
    },
    "kernelspec": {
      "name": "python3",
      "display_name": "Python 3"
    },
    "language_info": {
      "name": "python"
    }
  },
  "cells": [
    {
      "cell_type": "markdown",
      "metadata": {
        "id": "view-in-github",
        "colab_type": "text"
      },
      "source": [
        "<a href=\"https://colab.research.google.com/github/1kaiser/jax-unet/blob/master/SegmenatationJaxUnet.ipynb\" target=\"_parent\"><img src=\"https://colab.research.google.com/assets/colab-badge.svg\" alt=\"Open In Colab\"/></a>"
      ]
    },
    {
      "cell_type": "code",
      "source": [
        "import tensorflow as tf\n",
        "import pathlib\n",
        "urls = 'https://github.com/1kaiser/Media-Segment-Depth-MLP/releases/download/v0.2/s.zip'\n",
        "data_dir = tf.keras.utils.get_file(origin=urls,\n",
        "                                   fname='s',\n",
        "                                   cache_subdir='/content/',\n",
        "                                   archive_format='auto',\n",
        "                                   untar=False,\n",
        "                                   extract=True)\n",
        "data_dir = pathlib.Path(data_dir)"
      ],
      "metadata": {
        "id": "wYjgf2Of6mwZ"
      },
      "execution_count": null,
      "outputs": []
    },
    {
      "cell_type": "code",
      "execution_count": null,
      "metadata": {
        "id": "QVudNZMY6jQP"
      },
      "outputs": [],
      "source": [
        "import glob, os\n",
        "import tensorflow as tf\n",
        "import numpy as np\n",
        "\n",
        "PATH = 'datasets/'\n",
        "BATCH_SIZE = 12\n",
        "IMAGE_SIZE = 512\n",
        "\n",
        "\n",
        "def read_train_data():\n",
        "    x_files = [f for f in glob.glob(PATH + \"train/*.jpg\", recursive=True)]\n",
        "    y_files = [f for f in glob.glob(PATH + \"mask/*.jpg\", recursive=True)]\n",
        "\n",
        "    def read_image(x_filename, y_filename):\n",
        "        x_image_string = tf.io.read_file(x_filename)\n",
        "        y_image_string = tf.io.read_file(y_filename)\n",
        "\n",
        "        x_image_decoded = tf.image.decode_jpeg(x_image_string, channels=3)\n",
        "        y_image_decoded = tf.image.decode_jpeg(y_image_string, channels=1)\n",
        "\n",
        "        x_image_resized = tf.image.resize(x_image_decoded, [IMAGE_SIZE, IMAGE_SIZE])\n",
        "        y_image_resized = tf.image.resize(y_image_decoded, [IMAGE_SIZE, IMAGE_SIZE])\n",
        "\n",
        "        x_image_norm = x_image_resized / 255\n",
        "        y_image_norm = y_image_resized / 255\n",
        "\n",
        "        return x_image_norm, y_image_norm\n",
        "\n",
        "    dataset = tf.data.Dataset.from_tensor_slices((x_files, y_files))\n",
        "\n",
        "    dataset = dataset.map(read_image).shuffle(1000).batch(BATCH_SIZE)\n",
        "\n",
        "    return dataset\n",
        "\n",
        "\n",
        "def read_predict_data():\n",
        "    file_path = 'predict/pre.jpg'\n",
        "    image = tf.io.read_file(file_path)\n",
        "    image_decoded = tf.image.decode_jpeg(image, channels=3)\n",
        "    image_resized = tf.image.resize(image_decoded, [IMAGE_SIZE, IMAGE_SIZE])\n",
        "    image_norm = image_resized / 255\n",
        "\n",
        "    return image_norm\n",
        "\n",
        "\n",
        "def save_image(image):\n",
        "    file_path = 'predict/result.jpg'\n",
        "    image = image * 255\n",
        "\n",
        "    encode_image = tf.image.encode_jpeg(image, format='rgb', quality=100)\n",
        "\n",
        "    with open(file_path, 'wb') as fd:\n",
        "        fd.write(encode_image)"
      ]
    }
  ]
}